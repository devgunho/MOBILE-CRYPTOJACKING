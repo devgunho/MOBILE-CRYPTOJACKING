{
 "cells": [
  {
   "cell_type": "code",
   "execution_count": 1,
   "metadata": {},
   "outputs": [],
   "source": [
    "import sys\n",
    "# !{sys.executable} -m spacy download en\n",
    "import re, numpy as np, pandas as pd\n",
    "from pprint import pprint\n",
    "\n",
    "# Gensim\n",
    "import gensim, spacy, logging, warnings\n",
    "import gensim.corpora as corpora\n",
    "from gensim.utils import simple_preprocess\n",
    "from gensim.models import CoherenceModel\n",
    "import matplotlib.pyplot as plt"
   ]
  },
  {
   "cell_type": "code",
   "execution_count": 2,
   "metadata": {},
   "outputs": [
    {
     "name": "stdout",
     "output_type": "stream",
     "text": [
      "(26050, 3)\n",
      "(26050, 3)\n"
     ]
    },
    {
     "data": {
      "text/html": [
       "<div>\n",
       "<style scoped>\n",
       "    .dataframe tbody tr th:only-of-type {\n",
       "        vertical-align: middle;\n",
       "    }\n",
       "\n",
       "    .dataframe tbody tr th {\n",
       "        vertical-align: top;\n",
       "    }\n",
       "\n",
       "    .dataframe thead th {\n",
       "        text-align: right;\n",
       "    }\n",
       "</style>\n",
       "<table border=\"1\" class=\"dataframe\">\n",
       "  <thead>\n",
       "    <tr style=\"text-align: right;\">\n",
       "      <th></th>\n",
       "      <th>category</th>\n",
       "      <th>target_name</th>\n",
       "      <th>content</th>\n",
       "    </tr>\n",
       "  </thead>\n",
       "  <tbody>\n",
       "    <tr>\n",
       "      <th>0</th>\n",
       "      <td>malicious</td>\n",
       "      <td>legitimate-injected/3/notes.md</td>\n",
       "      <td>ParseResult(scheme='', netloc='', path='&lt;scrip...</td>\n",
       "    </tr>\n",
       "    <tr>\n",
       "      <th>1</th>\n",
       "      <td>malicious</td>\n",
       "      <td>neutrino/201603_neutrino_lp.html</td>\n",
       "      <td>ParseResult(scheme='', netloc='', path='&lt;scrip...</td>\n",
       "    </tr>\n",
       "    <tr>\n",
       "      <th>2</th>\n",
       "      <td>malicious</td>\n",
       "      <td>neutrino/2016-02-12-Neutrino-EK-landing-page_i...</td>\n",
       "      <td>ParseResult(scheme='', netloc='', path='&lt;scrip...</td>\n",
       "    </tr>\n",
       "    <tr>\n",
       "      <th>3</th>\n",
       "      <td>malicious</td>\n",
       "      <td>neutrino/201601_neutrino_lp.html</td>\n",
       "      <td>ParseResult(scheme='', netloc='', path='&lt;scrip...</td>\n",
       "    </tr>\n",
       "    <tr>\n",
       "      <th>4</th>\n",
       "      <td>malicious</td>\n",
       "      <td>neutrino/201602_neutrino_lp.html</td>\n",
       "      <td>ParseResult(scheme='', netloc='', path='&lt;scrip...</td>\n",
       "    </tr>\n",
       "    <tr>\n",
       "      <th>...</th>\n",
       "      <td>...</td>\n",
       "      <td>...</td>\n",
       "      <td>...</td>\n",
       "    </tr>\n",
       "    <tr>\n",
       "      <th>26045</th>\n",
       "      <td>crypto</td>\n",
       "      <td>abc8/linkedin</td>\n",
       "      <td>ParseResult(scheme='', netloc='', path='&lt;scrip...</td>\n",
       "    </tr>\n",
       "    <tr>\n",
       "      <th>26046</th>\n",
       "      <td>crypto</td>\n",
       "      <td>abc8/linkedin</td>\n",
       "      <td>ParseResult(scheme='', netloc='', path='&lt;scrip...</td>\n",
       "    </tr>\n",
       "    <tr>\n",
       "      <th>26047</th>\n",
       "      <td>crypto</td>\n",
       "      <td>abc8/linkedin</td>\n",
       "      <td>ParseResult(scheme='', netloc='', path='&lt;scrip...</td>\n",
       "    </tr>\n",
       "    <tr>\n",
       "      <th>26048</th>\n",
       "      <td>crypto</td>\n",
       "      <td>abc8/linkedin</td>\n",
       "      <td>ParseResult(scheme='', netloc='', path='&lt;scrip...</td>\n",
       "    </tr>\n",
       "    <tr>\n",
       "      <th>26049</th>\n",
       "      <td>crypto</td>\n",
       "      <td>abc8/linkedin</td>\n",
       "      <td>ParseResult(scheme='', netloc='', path='&lt;scrip...</td>\n",
       "    </tr>\n",
       "  </tbody>\n",
       "</table>\n",
       "<p>26050 rows × 3 columns</p>\n",
       "</div>"
      ],
      "text/plain": [
       "        category                                        target_name  \\\n",
       "0      malicious                     legitimate-injected/3/notes.md   \n",
       "1      malicious                   neutrino/201603_neutrino_lp.html   \n",
       "2      malicious  neutrino/2016-02-12-Neutrino-EK-landing-page_i...   \n",
       "3      malicious                   neutrino/201601_neutrino_lp.html   \n",
       "4      malicious                   neutrino/201602_neutrino_lp.html   \n",
       "...          ...                                                ...   \n",
       "26045     crypto                                      abc8/linkedin   \n",
       "26046     crypto                                      abc8/linkedin   \n",
       "26047     crypto                                      abc8/linkedin   \n",
       "26048     crypto                                      abc8/linkedin   \n",
       "26049     crypto                                      abc8/linkedin   \n",
       "\n",
       "                                                 content  \n",
       "0      ParseResult(scheme='', netloc='', path='<scrip...  \n",
       "1      ParseResult(scheme='', netloc='', path='<scrip...  \n",
       "2      ParseResult(scheme='', netloc='', path='<scrip...  \n",
       "3      ParseResult(scheme='', netloc='', path='<scrip...  \n",
       "4      ParseResult(scheme='', netloc='', path='<scrip...  \n",
       "...                                                  ...  \n",
       "26045  ParseResult(scheme='', netloc='', path='<scrip...  \n",
       "26046  ParseResult(scheme='', netloc='', path='<scrip...  \n",
       "26047  ParseResult(scheme='', netloc='', path='<scrip...  \n",
       "26048  ParseResult(scheme='', netloc='', path='<scrip...  \n",
       "26049  ParseResult(scheme='', netloc='', path='<scrip...  \n",
       "\n",
       "[26050 rows x 3 columns]"
      ]
     },
     "execution_count": 2,
     "metadata": {},
     "output_type": "execute_result"
    }
   ],
   "source": [
    "df = pd.read_csv('./result.csv')\n",
    "print(df.shape)\n",
    "\n",
    "# LIMIT = 10\n",
    "# df = df[:LIMIT]\n",
    "print(df.shape)\n",
    "df"
   ]
  },
  {
   "cell_type": "code",
   "execution_count": 3,
   "metadata": {},
   "outputs": [],
   "source": [
    "from textblob import Word\n",
    "from nltk.corpus import stopwords\n",
    "import nltk"
   ]
  },
  {
   "cell_type": "code",
   "execution_count": 4,
   "metadata": {},
   "outputs": [
    {
     "name": "stderr",
     "output_type": "stream",
     "text": [
      "[nltk_data] Downloading package stopwords to /root/nltk_data...\n",
      "[nltk_data]   Package stopwords is already up-to-date!\n",
      "[nltk_data] Downloading package wordnet to /root/nltk_data...\n",
      "[nltk_data]   Package wordnet is already up-to-date!\n"
     ]
    },
    {
     "data": {
      "text/plain": [
       "True"
      ]
     },
     "execution_count": 4,
     "metadata": {},
     "output_type": "execute_result"
    }
   ],
   "source": [
    "nltk.download(\"stopwords\")\n",
    "nltk.download(\"wordnet\")"
   ]
  },
  {
   "cell_type": "code",
   "execution_count": 5,
   "metadata": {},
   "outputs": [],
   "source": [
    "def clean_text(text):\n",
    "    return \" \".join([ Word(word).lemmatize() for word in re.sub(\"[^A-Za-z0-9]+\", \" \", text).lower().split() if word not in stopword])"
   ]
  },
  {
   "cell_type": "code",
   "execution_count": null,
   "metadata": {},
   "outputs": [
    {
     "name": "stdout",
     "output_type": "stream",
     "text": [
      "Ngram  (1, 1)\n",
      "Perplexity  10\n"
     ]
    }
   ],
   "source": [
    "from collections import defaultdict\n",
    "from sklearn.feature_extraction.text import TfidfVectorizer\n",
    "from sklearn.manifold import TSNE\n",
    "import seaborn as sns\n",
    "perp_components = defaultdict(dict)\n",
    "for i in [10,30,50,100]:\n",
    "    for ngram in [(1,1),(1,2),(1,3),(2,2),(3,3)]:\n",
    "        vectorizer = TfidfVectorizer(ngram_range=ngram, max_features= 2**10)\n",
    "        text_to_vector = vectorizer.fit_transform(df.content.values)\n",
    "        print(\"Ngram \",ngram )\n",
    "        print(\"Perplexity \", i)\n",
    "        X_embedded = TSNE(perplexity=i ).fit_transform(text_to_vector)\n",
    "        ngram_str = str(ngram[0])+\"_\"+str(ngram[1])\n",
    "        perp_components[i][ngram_str] = X_embedded\n",
    "        # sns settings\n",
    "        sns.set(rc={'figure.figsize':(15,15)})\n",
    "        # colors\n",
    "        palette = sns.color_palette(\"hls\", len(set(df.target_name.values.tolist())))        \n",
    "        y = df.target_name.values.tolist()\n",
    "        # plot\n",
    "#         sns.scatterplot(X_embedded[:,0], X_embedded[:,1], hue=y, palette=palette)\n",
    "        sns.scatterplot(X_embedded[:,0], X_embedded[:,1], hue=y, legend=False, palette=palette)\n",
    "        title = \"t-SNE- JS group - TfIdf - \"+ngram_str+\"- tSNE perplexity - \"+str(i)\n",
    "#         plt.legend(loc='upper right', bbox_to_anchor=(1.2, 1));\n",
    "        plt.savefig(title)\n",
    "        plt.title(title)\n",
    "        plt.show()"
   ]
  }
 ],
 "metadata": {
  "kernelspec": {
   "display_name": "Python 3",
   "language": "python",
   "name": "python3"
  },
  "language_info": {
   "codemirror_mode": {
    "name": "ipython",
    "version": 3
   },
   "file_extension": ".py",
   "mimetype": "text/x-python",
   "name": "python",
   "nbconvert_exporter": "python",
   "pygments_lexer": "ipython3",
   "version": "3.8.5"
  }
 },
 "nbformat": 4,
 "nbformat_minor": 4
}
